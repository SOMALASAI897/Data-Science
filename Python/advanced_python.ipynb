{
 "cells": [
  {
   "cell_type": "code",
   "execution_count": 1,
   "id": "94c7edaf",
   "metadata": {},
   "outputs": [],
   "source": [
    "# Serialization - > Process of Converting python data types to JSON format \n",
    "\n",
    "import json \n",
    "L = [1,2,3,4,5,6,7]\n",
    "\n",
    "with open(\"demo.json\",'w') as f:\n",
    "    json.dump(L,f)"
   ]
  },
  {
   "cell_type": "code",
   "execution_count": 3,
   "id": "9459cd93",
   "metadata": {},
   "outputs": [
    {
     "name": "stdout",
     "output_type": "stream",
     "text": [
      "[1, 2, 3, 4, 5, 6, 7]\n"
     ]
    }
   ],
   "source": [
    "# De Serialization -> Process of Converting JSON format to the Python Data Types \n",
    "import json\n",
    "\n",
    "with open(\"demo.json\",'r') as f:\n",
    "    print(json.load(f))"
   ]
  },
  {
   "cell_type": "code",
   "execution_count": 4,
   "id": "4a622af1",
   "metadata": {},
   "outputs": [],
   "source": [
    "# how to pass the object to the json format \n",
    "\n",
    "class Details:\n",
    "    \n",
    "    def __init__(self,name,age,gender):\n",
    "        self.name = name\n",
    "        self.age = age\n",
    "        self.gender = gender\n",
    "\n",
    "Person = Details(\"bharath\",21,\"male\")\n",
    "\n"
   ]
  },
  {
   "cell_type": "code",
   "execution_count": 6,
   "id": "48faa4b1",
   "metadata": {},
   "outputs": [],
   "source": [
    "# creating a funciton to pass how an object will be printed on the screen \n",
    "def obj_created(Person):\n",
    "    if isinstance(Person, Details):\n",
    "        return \"name is {}-> age is {}-> gender {}\".format(Person.name, Person.age,Person.gender)"
   ]
  },
  {
   "cell_type": "code",
   "execution_count": 8,
   "id": "854ab31f",
   "metadata": {},
   "outputs": [],
   "source": [
    "# using the serilaization to dump the data of object form \n",
    "import json \n",
    "\n",
    "with open(\"demo.json\",'w') as f:\n",
    "    json.dump(Person,f,default = obj_created)"
   ]
  },
  {
   "cell_type": "code",
   "execution_count": 10,
   "id": "3f108fa7",
   "metadata": {},
   "outputs": [
    {
     "name": "stdout",
     "output_type": "stream",
     "text": [
      "name is bharath-> age is 21-> gender male\n"
     ]
    }
   ],
   "source": [
    "with open(\"demo.json\",'r') as f:\n",
    "    print(json.load(f))"
   ]
  },
  {
   "cell_type": "code",
   "execution_count": 23,
   "id": "ddf1269c",
   "metadata": {},
   "outputs": [],
   "source": [
    "# Pickling\n",
    "\n",
    "class Details:\n",
    "    \n",
    "    def __init__(self,name,age,gender):\n",
    "        self.name = name\n",
    "        self.age = age\n",
    "        self.gender = gender\n",
    "    \n",
    "    def display_info(self):\n",
    "        print(\"My name is \",self.name ,\"and i am\" ,self.age ,self.gender)\n",
    "\n",
    "Person = Details(\"bharath\",21,\"male\")\n"
   ]
  },
  {
   "cell_type": "code",
   "execution_count": 24,
   "id": "f97f9752",
   "metadata": {},
   "outputs": [],
   "source": [
    "# creating the new file and passing the object to it \n",
    "import pickle \n",
    "\n",
    "with open(\"pickle.demo\",'wb') as f:\n",
    "    pickle.dump(Person,f)"
   ]
  },
  {
   "cell_type": "code",
   "execution_count": 25,
   "id": "1421a570",
   "metadata": {},
   "outputs": [
    {
     "name": "stdout",
     "output_type": "stream",
     "text": [
      "My name is  bharath and i am 21 male\n"
     ]
    }
   ],
   "source": [
    "# printing the pickle file \n",
    "with open(\"pickle.demo\",'rb') as f:\n",
    "    p = pickle.load(f)\n",
    "\n",
    "p.display_info()"
   ]
  }
 ],
 "metadata": {
  "kernelspec": {
   "display_name": "Python 3",
   "language": "python",
   "name": "python3"
  },
  "language_info": {
   "codemirror_mode": {
    "name": "ipython",
    "version": 3
   },
   "file_extension": ".py",
   "mimetype": "text/x-python",
   "name": "python",
   "nbconvert_exporter": "python",
   "pygments_lexer": "ipython3",
   "version": "3.12.3"
  }
 },
 "nbformat": 4,
 "nbformat_minor": 5
}

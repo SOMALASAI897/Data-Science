{
 "cells": [
  {
   "cell_type": "code",
   "execution_count": 1,
   "id": "af6a4c6f",
   "metadata": {},
   "outputs": [
    {
     "name": "stdout",
     "output_type": "stream",
     "text": [
      "welcome to Data Science world\n"
     ]
    }
   ],
   "source": [
    "print(\"welcome to Data Science world\")"
   ]
  },
  {
   "cell_type": "code",
   "execution_count": 2,
   "id": "7e78db61",
   "metadata": {},
   "outputs": [
    {
     "name": "stdout",
     "output_type": "stream",
     "text": [
      "9\n",
      "barath\n",
      "True\n",
      "[1, 2, 3, 4, 5, 6, 7]\n",
      "(1, 2, 3, 4, 5, 6, 7)\n",
      "{1, 2, 3, 4, 5, 6, 7}\n",
      "{'name': 'Barath', 'Age': 21}\n"
     ]
    }
   ],
   "source": [
    "# data types\n",
    "print(9) #int\n",
    "print('barath') #\n",
    "print(True) #boolean\n",
    "print([1,2,3,4,5,6,7]) #list\n",
    "print((1,2,3,4,5,6,7)) #tuple\n",
    "print({1,2,3,4,5,6,7}) #sets\n",
    "print({'name': 'Barath', 'Age': 21}) #dict"
   ]
  },
  {
   "cell_type": "code",
   "execution_count": 4,
   "id": "c2e53b56",
   "metadata": {},
   "outputs": [
    {
     "data": {
      "text/plain": [
       "int"
      ]
     },
     "execution_count": 4,
     "metadata": {},
     "output_type": "execute_result"
    }
   ],
   "source": [
    "# type function \n",
    "type(7) #prints the type of the provided data type  "
   ]
  },
  {
   "cell_type": "code",
   "execution_count": null,
   "id": "8152965b",
   "metadata": {},
   "outputs": [
    {
     "name": "stdout",
     "output_type": "stream",
     "text": [
      "True\n"
     ]
    }
   ],
   "source": [
    "# membership function  in/not in - simply checks whether a alphabet exists in a word or not like\n",
    "print('B' in 'Barath') #gives output as true because it exists"
   ]
  },
  {
   "cell_type": "code",
   "execution_count": 4,
   "id": "4b68b30b",
   "metadata": {},
   "outputs": [
    {
     "name": "stdout",
     "output_type": "stream",
     "text": [
      "8\n"
     ]
    }
   ],
   "source": [
    "# extracting the single digit from a number and then adding the total numbers\n",
    "\n",
    "a = 143\n",
    "result = 0\n",
    "while(a > 0):\n",
    "    result += a %10\n",
    "    a = a/10\n",
    "\n",
    "print(int(result))"
   ]
  },
  {
   "cell_type": "code",
   "execution_count": null,
   "id": "9b0aa0c9",
   "metadata": {},
   "outputs": [
    {
     "name": "stdout",
     "output_type": "stream",
     "text": [
      "['False', 'None', 'True', 'and', 'as', 'assert', 'async', 'await', 'break', 'class', 'continue', 'def', 'del', 'elif', 'else', 'except', 'finally', 'for', 'from', 'global', 'if', 'import', 'in', 'is', 'lambda', 'nonlocal', 'not', 'or', 'pass', 'raise', 'return', 'try', 'while', 'with', 'yield']\n"
     ]
    }
   ],
   "source": [
    "# keyword module  - All the keywords that are present in the python \n",
    "import keyword\n",
    "print(keyword.kwlist)"
   ]
  }
 ],
 "metadata": {
  "kernelspec": {
   "display_name": "Python 3",
   "language": "python",
   "name": "python3"
  },
  "language_info": {
   "codemirror_mode": {
    "name": "ipython",
    "version": 3
   },
   "file_extension": ".py",
   "mimetype": "text/x-python",
   "name": "python",
   "nbconvert_exporter": "python",
   "pygments_lexer": "ipython3",
   "version": "3.12.3"
  }
 },
 "nbformat": 4,
 "nbformat_minor": 5
}

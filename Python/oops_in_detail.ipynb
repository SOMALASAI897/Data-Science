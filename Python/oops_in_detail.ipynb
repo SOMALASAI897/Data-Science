{
 "cells": [
  {
   "cell_type": "code",
   "execution_count": null,
   "id": "5c424cf8",
   "metadata": {},
   "outputs": [
    {
     "name": "stdout",
     "output_type": "stream",
     "text": [
      "pin created succesfully\n",
      "withdrawl successfull, available balance is:  1000\n"
     ]
    }
   ],
   "source": [
    "# oops in python - indetail and along with project \n",
    "'''\n",
    "class - Blueprint for the objects\n",
    "object - Instance of the class\n",
    "'''\n",
    "# min oops project - ATM \n",
    " \n",
    "class Atm:\n",
    "    \n",
    "    # constructor(special function)\n",
    "    def __init__(self):\n",
    "        self.pin = \" \"\n",
    "        self.balance = 0\n",
    "        self.menu()\n",
    "    \n",
    "    def menu(self):\n",
    "        user_input = input(\"\"\"\n",
    "              Hi hello how can i help you ?\n",
    "              1. Press 1 to create Pin\n",
    "              2. Press 2 to change Pin\n",
    "              3. Press 3 to check balance\n",
    "              4. Press 4 to withdraw\n",
    "              5. Anything else to exit\n",
    "              \"\"\")\n",
    "        \n",
    "        if user_input == '1':\n",
    "            # code for creating the pin \n",
    "            self.create_pin()\n",
    "        elif user_input == '2':\n",
    "            # code for changing the pin \n",
    "            self.change_pin()\n",
    "        elif user_input == '3':\n",
    "            # code for checking balance \n",
    "            self.check_balance()\n",
    "        elif user_input == '4' :\n",
    "            # code for withdrawing the amount\n",
    "            self.withdraw()\n",
    "        else:\n",
    "            exit()\n",
    "    \n",
    "    def create_pin(self):\n",
    "        user_pin = input(\"Enter your pin: \")\n",
    "        self.pin = user_pin\n",
    "        \n",
    "        user_balance = int(input(\"Enter Balance: \"))\n",
    "        self.balance = user_balance\n",
    "        \n",
    "        print(\"pin created succesfully\")\n",
    "        self.menu()\n",
    "        \n",
    "    def change_pin(self):\n",
    "        old_pin = input(\"Enter you old Pin: \")\n",
    "        if old_pin == self.pin :\n",
    "            # let change the pin \n",
    "            new_pin = input(\"Enter new pin\")\n",
    "            self.pin = new_pin\n",
    "            print(\"pin change successfully\")\n",
    "            exit()\n",
    "            \n",
    "        else :\n",
    "            print(\"pin doesn`t match\")\n",
    "            self.menu()\n",
    "        \n",
    "    def check_balance(self):\n",
    "        user_pin = input(\"Enter your pin: \")\n",
    "        \n",
    "        if user_pin == self.pin:\n",
    "            print('your balance is : ',self.balance)\n",
    "        else:\n",
    "            print(\"incorrect pin \")\n",
    "            self.menu()\n",
    "    \n",
    "    def withdraw(self):\n",
    "        user_pin = input(\"Enter the pin \")\n",
    "        \n",
    "        if user_pin == self.pin:\n",
    "            # allow to withdraw\n",
    "            amount = int(input(\"Enter the amount\"))\n",
    "            if amount <= self.balance:\n",
    "                self.balance = self.balance- amount\n",
    "                print(\"withdrawl successfull, available balance is: \",self.balance)\n",
    "            else:\n",
    "                print(\"not correct\")\n",
    "                self.menu()\n",
    "        else:\n",
    "            print(\"incorrect pin\")\n",
    "\n",
    "    \n",
    "obj = Atm()\n"
   ]
  },
  {
   "cell_type": "code",
   "execution_count": 5,
   "id": "1b49413f",
   "metadata": {},
   "outputs": [
    {
     "data": {
      "text/plain": [
       "' special type of methods\\nlike __name__ '"
      ]
     },
     "execution_count": 5,
     "metadata": {},
     "output_type": "execute_result"
    }
   ],
   "source": [
    "# magic methods -> dunder method\n",
    "\n",
    "''' special type of methods\n",
    "like __name__ '''\n"
   ]
  },
  {
   "cell_type": "code",
   "execution_count": null,
   "id": "4afdefc6",
   "metadata": {},
   "outputs": [
    {
     "data": {
      "text/plain": [
       "'\\nself is nothing but it is an object itself - because it has the same address of obj so i can easily say that\\n'"
      ]
     },
     "execution_count": 6,
     "metadata": {},
     "output_type": "execute_result"
    }
   ],
   "source": [
    "# concept of self -> default parameter\n",
    "'''\n",
    "self is simply the object itself. It refers to the current instance of the class. Since self has the same memory address as the object, we can say that self is just another way to refer to the object.\n",
    "'''"
   ]
  },
  {
   "cell_type": "code",
   "execution_count": null,
   "id": "cebbc562",
   "metadata": {},
   "outputs": [
    {
     "name": "stdout",
     "output_type": "stream",
     "text": [
      "3/4\n",
      "1/2\n",
      "10/8\n",
      "2/8\n",
      "3/8\n",
      "6/4\n"
     ]
    }
   ],
   "source": [
    "# concept of building own data types  -> fraction \n",
    "class Fraction :\n",
    "    \n",
    "    # parameterized constructor\n",
    "    def __init__(self,x,y):\n",
    "        self.num = x\n",
    "        self.den = y\n",
    "    \n",
    "    def __str__(self):\n",
    "        return '{}/{}'.format(self.num, self.den)\n",
    "    \n",
    "    def __add__(self,other):\n",
    "        new_num = self.num*other.den + other.num*self.den\n",
    "        new_den = self.den*other.den\n",
    "        \n",
    "        return '{}/{}'.format(new_num,new_den)\n",
    "    \n",
    "    def __sub__(self,other):\n",
    "        new_num = self.num*other.den - other.num*self.den\n",
    "        new_den = self.den*other.den\n",
    "        \n",
    "        return '{}/{}'.format(new_num,new_den)\n",
    "    \n",
    "    def __mul__(self,other):\n",
    "        new_num = self.num*other.num\n",
    "        new_den = self.den*other.den\n",
    "        \n",
    "        return '{}/{}'.format(new_num,new_den)\n",
    "    \n",
    "    def __truediv__(self,other):\n",
    "        new_num = self.num*other.den\n",
    "        new_den = self.den*other.num\n",
    "        \n",
    "        return '{}/{}'.format(new_num,new_den)\n",
    "    \n",
    "    \n",
    "frac1 = Fraction(3,4)\n",
    "frac2 = Fraction(1,2)\n",
    "print(frac1)\n",
    "print(frac2)\n",
    "print(frac1+frac2)\n",
    "print(frac1-frac2)\n",
    "print(frac1*frac2)\n",
    "print(frac1/frac2)"
   ]
  }
 ],
 "metadata": {
  "kernelspec": {
   "display_name": "Python 3",
   "language": "python",
   "name": "python3"
  },
  "language_info": {
   "codemirror_mode": {
    "name": "ipython",
    "version": 3
   },
   "file_extension": ".py",
   "mimetype": "text/x-python",
   "name": "python",
   "nbconvert_exporter": "python",
   "pygments_lexer": "ipython3",
   "version": "3.12.3"
  }
 },
 "nbformat": 4,
 "nbformat_minor": 5
}

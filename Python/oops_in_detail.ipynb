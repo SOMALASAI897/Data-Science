{
 "cells": [
  {
   "cell_type": "code",
   "execution_count": 1,
   "id": "5c424cf8",
   "metadata": {},
   "outputs": [],
   "source": [
    "# oops in python - indetail and along with project \n",
    "'''\n",
    "class - Blueprint for the objects\n",
    "object - Instance of the class\n",
    "'''\n",
    "# mini oops project - ATM \n",
    " \n",
    "class Atm:\n",
    "    \n",
    "    # constructor(special function)\n",
    "    def __init__(self):\n",
    "        self.pin = \" \"\n",
    "        self.balance = 0\n",
    "        self.menu()\n",
    "    \n",
    "    def menu(self):\n",
    "        user_input = input(\"\"\"\n",
    "              Hi hello how can i help you ?\n",
    "              1. Press 1 to create Pin\n",
    "              2. Press 2 to change Pin\n",
    "              3. Press 3 to check balance\n",
    "              4. Press 4 to withdraw\n",
    "              5. Anything else to exit\n",
    "              \"\"\")\n",
    "        \n",
    "        if user_input == '1':\n",
    "            # code for creating the pin \n",
    "            self.create_pin()\n",
    "        elif user_input == '2':\n",
    "            # code for changing the pin \n",
    "            self.change_pin()\n",
    "        elif user_input == '3':\n",
    "            # code for checking balance \n",
    "            self.check_balance()\n",
    "        elif user_input == '4' :\n",
    "            # code for withdrawing the amount\n",
    "            self.withdraw()\n",
    "        else:\n",
    "            exit()\n",
    "    \n",
    "    def create_pin(self):\n",
    "        user_pin = input(\"Enter your pin: \")\n",
    "        self.pin = user_pin\n",
    "        \n",
    "        user_balance = int(input(\"Enter Balance: \"))\n",
    "        self.balance = user_balance\n",
    "        \n",
    "        print(\"pin created succesfully\")\n",
    "        self.menu()\n",
    "        \n",
    "    def change_pin(self):\n",
    "        old_pin = input(\"Enter you old Pin: \")\n",
    "        if old_pin == self.pin :\n",
    "            # let change the pin \n",
    "            new_pin = input(\"Enter new pin\")\n",
    "            self.pin = new_pin\n",
    "            print(\"pin change successfully\")\n",
    "            exit()\n",
    "            \n",
    "        else :\n",
    "            print(\"pin doesn`t match\")\n",
    "            self.menu()\n",
    "        \n",
    "    def check_balance(self):\n",
    "        user_pin = input(\"Enter your pin: \")\n",
    "        \n",
    "        if user_pin == self.pin:\n",
    "            print('your balance is : ',self.balance)\n",
    "        else:\n",
    "            print(\"incorrect pin \")\n",
    "            self.menu()\n",
    "    \n",
    "    def withdraw(self):\n",
    "        user_pin = input(\"Enter the pin \")\n",
    "        \n",
    "        if user_pin == self.pin:\n",
    "            # allow to withdraw\n",
    "            amount = int(input(\"Enter the amount\"))\n",
    "            if amount <= self.balance:\n",
    "                self.balance = self.balance- amount\n",
    "                print(\"withdrawl successfull, available balance is: \",self.balance)\n",
    "            else:\n",
    "                print(\"not correct\")\n",
    "                self.menu()\n",
    "        else:\n",
    "            print(\"incorrect pin\")\n",
    "\n",
    "    \n",
    "obj = Atm()\n"
   ]
  },
  {
   "cell_type": "code",
   "execution_count": 2,
   "id": "1b49413f",
   "metadata": {},
   "outputs": [
    {
     "data": {
      "text/plain": [
       "' special type of methods\\nlike __name__ '"
      ]
     },
     "execution_count": 2,
     "metadata": {},
     "output_type": "execute_result"
    }
   ],
   "source": [
    "# magic methods -> dunder method\n",
    "\n",
    "''' special type of methods\n",
    "like __name__ '''\n"
   ]
  },
  {
   "cell_type": "code",
   "execution_count": null,
   "id": "4afdefc6",
   "metadata": {},
   "outputs": [
    {
     "data": {
      "text/plain": [
       "'\\nself is nothing but it is an object itself - because it has the same address of obj so i can easily say that\\n'"
      ]
     },
     "execution_count": 6,
     "metadata": {},
     "output_type": "execute_result"
    }
   ],
   "source": [
    "# concept of self -> default parameter\n",
    "'''\n",
    "self is simply the object itself. It refers to the current instance of the class. Since self has the same memory address as the object, we can say that self is just another way to refer to the object.\n",
    "'''"
   ]
  },
  {
   "cell_type": "code",
   "execution_count": 1,
   "id": "cebbc562",
   "metadata": {},
   "outputs": [
    {
     "name": "stdout",
     "output_type": "stream",
     "text": [
      "3/4\n",
      "1/2\n",
      "10/8\n",
      "2/8\n",
      "3/8\n",
      "6/4\n"
     ]
    }
   ],
   "source": [
    "# concept of building own data types  -> fraction \n",
    "class Fraction :\n",
    "    \n",
    "    # parameterized constructor\n",
    "    def __init__(self,x,y):\n",
    "        self.num = x\n",
    "        self.den = y\n",
    "    \n",
    "    def __str__(self):\n",
    "        return '{}/{}'.format(self.num, self.den)\n",
    "    \n",
    "    def __add__(self,other):\n",
    "        new_num = self.num*other.den + other.num*self.den\n",
    "        new_den = self.den*other.den\n",
    "        \n",
    "        return '{}/{}'.format(new_num,new_den)\n",
    "    \n",
    "    def __sub__(self,other):\n",
    "        new_num = self.num*other.den - other.num*self.den\n",
    "        new_den = self.den*other.den\n",
    "        \n",
    "        return '{}/{}'.format(new_num,new_den)\n",
    "    \n",
    "    def __mul__(self,other):\n",
    "        new_num = self.num*other.num\n",
    "        new_den = self.den*other.den\n",
    "        \n",
    "        return '{}/{}'.format(new_num,new_den)\n",
    "    \n",
    "    def __truediv__(self,other):\n",
    "        new_num = self.num*other.den\n",
    "        new_den = self.den*other.num\n",
    "        \n",
    "        return '{}/{}'.format(new_num,new_den)\n",
    "    \n",
    "    \n",
    "frac1 = Fraction(3,4)\n",
    "frac2 = Fraction(1,2)\n",
    "print(frac1)\n",
    "print(frac2)\n",
    "print(frac1+frac2)\n",
    "print(frac1-frac2)\n",
    "print(frac1*frac2)\n",
    "print(frac1/frac2)"
   ]
  },
  {
   "cell_type": "code",
   "execution_count": 2,
   "id": "57b7599c",
   "metadata": {},
   "outputs": [
    {
     "data": {
      "text/plain": [
       "True"
      ]
     },
     "execution_count": 2,
     "metadata": {},
     "output_type": "execute_result"
    }
   ],
   "source": [
    "# Encapsulation -> wrapping up data (simply means = Data Hiding + Flexibility + Controlled Access)\n",
    "# Achieved using getter and setter methods\n",
    "# encapsulation example of a university admission process - if a student who scores above 65 and have an age of more than 20 can be eligible to take admission\n",
    "\n",
    "class Student:\n",
    "\n",
    "  def __init(self):\n",
    "    self.__student_id = None\n",
    "    self.__marks = None\n",
    "    self.__age = None\n",
    "  \n",
    "  def validate_marks(self):\n",
    "    if self.__marks >=0 and self.__marks <= 100:\n",
    "      return True\n",
    "    else :\n",
    "      return False\n",
    "  \n",
    "  def validate_age(self):\n",
    "    if self.__age > 20 :\n",
    "      return True\n",
    "    else :\n",
    "      return False\n",
    "\n",
    "  def set_values(self,studentID,marks,age):\n",
    "    self.__student_id = studentID\n",
    "    if marks >=0 and marks <= 100:\n",
    "      self.__marks = marks\n",
    "    else :\n",
    "      print(\"Invalid marks entered\")\n",
    "    if age > 20 :\n",
    "      self.__age = age\n",
    "    else :\n",
    "      print(\"Invalid age entered\")\n",
    "    \n",
    "  def get_values(self):\n",
    "    return self.__student_id,self.__marks,self.__age\n",
    "  \n",
    "  def check_qualification(self):\n",
    "    if self.validate_age() and self.validate_marks():\n",
    "      if self.__marks >= 65:\n",
    "        return True\n",
    "      else :\n",
    "        return False\n",
    "    else :\n",
    "      return False\n",
    "  \n",
    "check = Student()\n",
    "check.set_values(1,70,21)\n",
    "check.check_qualification()"
   ]
  },
  {
   "cell_type": "code",
   "execution_count": 3,
   "id": "9b5daa05",
   "metadata": {},
   "outputs": [
    {
     "name": "stdout",
     "output_type": "stream",
     "text": [
      "Greater Noida 201310 UP\n"
     ]
    }
   ],
   "source": [
    "# Agreegation in detail -> (Has a realtionship)\n",
    "class Details:\n",
    "    \n",
    "    def __init__(self,name,gender,address):\n",
    "        self.name = name\n",
    "        self.gender = gender\n",
    "        self.address = address\n",
    "    \n",
    "    def print_address(self):\n",
    "        print(self.address.city, self.address.pin, self.address.state)\n",
    "\n",
    "class Address:\n",
    "    \n",
    "    def __init__(self,city,pin,state):\n",
    "        self.city = city\n",
    "        self.pin = pin\n",
    "        self.state = state\n",
    "        \n",
    "obj1 = Address(\"Greater Noida\",201310,\"UP\")\n",
    "# we are giving object of one class as a argumnent to the another class\n",
    "obj2 = Details(\"bharath\",\"male\",obj1)\n",
    "obj2.print_address()"
   ]
  },
  {
   "cell_type": "code",
   "execution_count": null,
   "id": "2c775e68",
   "metadata": {},
   "outputs": [],
   "source": []
  }
 ],
 "metadata": {
  "kernelspec": {
   "display_name": "Python 3",
   "language": "python",
   "name": "python3"
  },
  "language_info": {
   "codemirror_mode": {
    "name": "ipython",
    "version": 3
   },
   "file_extension": ".py",
   "mimetype": "text/x-python",
   "name": "python",
   "nbconvert_exporter": "python",
   "pygments_lexer": "ipython3",
   "version": "3.12.3"
  }
 },
 "nbformat": 4,
 "nbformat_minor": 5
}
